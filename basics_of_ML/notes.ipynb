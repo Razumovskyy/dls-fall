{
 "cells": [
  {
   "cell_type": "code",
   "execution_count": null,
   "metadata": {},
   "outputs": [],
   "source": [
    "import pandas as pd"
   ]
  },
  {
   "cell_type": "markdown",
   "metadata": {},
   "source": [
    "### One-hot-encoding for coding categorial features into numerical format"
   ]
  },
  {
   "cell_type": "code",
   "execution_count": null,
   "metadata": {},
   "outputs": [],
   "source": [
    "data = {'title': ['Chess Magazine', 'Deuthsche Schachzeitung', 'New in Chess'],\n",
    "        'publication period': ['monthly', 'monthly', 'bimonthly'],\n",
    "        'paid subscription': ['Yes', 'No', 'Yes'],\n",
    "        'audience': ['Europe', 'Europe', 'Global'],\n",
    "        'price in euro': [10, 15, 12]}\n",
    "\n",
    "df = pd.DataFrame(data, index=[1, 2, 3])\n",
    "df.head()"
   ]
  },
  {
   "cell_type": "code",
   "execution_count": 17,
   "metadata": {},
   "outputs": [
    {
     "data": {
      "text/html": [
       "<div>\n",
       "<style scoped>\n",
       "    .dataframe tbody tr th:only-of-type {\n",
       "        vertical-align: middle;\n",
       "    }\n",
       "\n",
       "    .dataframe tbody tr th {\n",
       "        vertical-align: top;\n",
       "    }\n",
       "\n",
       "    .dataframe thead th {\n",
       "        text-align: right;\n",
       "    }\n",
       "</style>\n",
       "<table border=\"1\" class=\"dataframe\">\n",
       "  <thead>\n",
       "    <tr style=\"text-align: right;\">\n",
       "      <th></th>\n",
       "      <th>title</th>\n",
       "      <th>price in euro</th>\n",
       "      <th>publication period_bimonthly</th>\n",
       "      <th>publication period_monthly</th>\n",
       "      <th>paid subscription_No</th>\n",
       "      <th>paid subscription_Yes</th>\n",
       "      <th>audience_Europe</th>\n",
       "      <th>audience_Global</th>\n",
       "    </tr>\n",
       "  </thead>\n",
       "  <tbody>\n",
       "    <tr>\n",
       "      <th>0</th>\n",
       "      <td>Chess Magazine</td>\n",
       "      <td>10</td>\n",
       "      <td>0</td>\n",
       "      <td>1</td>\n",
       "      <td>0</td>\n",
       "      <td>1</td>\n",
       "      <td>1</td>\n",
       "      <td>0</td>\n",
       "    </tr>\n",
       "    <tr>\n",
       "      <th>1</th>\n",
       "      <td>Deuthsche Schachzeitung</td>\n",
       "      <td>15</td>\n",
       "      <td>0</td>\n",
       "      <td>1</td>\n",
       "      <td>1</td>\n",
       "      <td>0</td>\n",
       "      <td>1</td>\n",
       "      <td>0</td>\n",
       "    </tr>\n",
       "    <tr>\n",
       "      <th>2</th>\n",
       "      <td>New in Chess</td>\n",
       "      <td>12</td>\n",
       "      <td>1</td>\n",
       "      <td>0</td>\n",
       "      <td>0</td>\n",
       "      <td>1</td>\n",
       "      <td>0</td>\n",
       "      <td>1</td>\n",
       "    </tr>\n",
       "  </tbody>\n",
       "</table>\n",
       "</div>"
      ],
      "text/plain": [
       "                     title  price in euro  publication period_bimonthly  \\\n",
       "0           Chess Magazine             10                             0   \n",
       "1  Deuthsche Schachzeitung             15                             0   \n",
       "2             New in Chess             12                             1   \n",
       "\n",
       "   publication period_monthly  paid subscription_No  paid subscription_Yes  \\\n",
       "0                           1                     0                      1   \n",
       "1                           1                     1                      0   \n",
       "2                           0                     0                      1   \n",
       "\n",
       "   audience_Europe  audience_Global  \n",
       "0                1                0  \n",
       "1                1                0  \n",
       "2                0                1  "
      ]
     },
     "execution_count": 17,
     "metadata": {},
     "output_type": "execute_result"
    }
   ],
   "source": [
    "df_dummies = pd.get_dummies(df, columns=['publication period', 'paid subscription', 'audience'], dtype=int)\n",
    "df_dummies.head()\n",
    "\n",
    "# general pattern for getting one-hot-encoding:\n",
    "# df_extended = pd.get_dummies(df, columns=categorical_columns, **kwargs)"
   ]
  },
  {
   "cell_type": "code",
   "execution_count": null,
   "metadata": {},
   "outputs": [],
   "source": [
    "type(df.columns) # reminder -- this is not a numpy ndarray, this is pandas Index class"
   ]
  },
  {
   "cell_type": "code",
   "execution_count": null,
   "metadata": {},
   "outputs": [],
   "source": [
    "# reminder -- how to get only specific columns\n",
    "categorials = ['publication period', 'paid subscription', 'audience']\n",
    "cat_cols = df[categorials]\n",
    "#cat_cols.head()\n",
    "\n",
    "num_cols = df['price in euro']\n",
    "type(num_cols) # type is Pandas Series because it is only one column"
   ]
  },
  {
   "cell_type": "markdown",
   "metadata": {},
   "source": [
    "Initialising \"dummy\" catgerorical columns as new categorical columns"
   ]
  },
  {
   "cell_type": "code",
   "execution_count": 19,
   "metadata": {},
   "outputs": [
    {
     "name": "stdout",
     "output_type": "stream",
     "text": [
      "['publication period_bimonthly', 'publication period_monthly', 'paid subscription_No', 'paid subscription_Yes', 'audience_Europe', 'audience_Global']\n"
     ]
    }
   ],
   "source": [
    "cat_cols_new = []\n",
    "for col_name in cat_cols:\n",
    "    cat_cols_new.extend(filter(lambda x: x.startswith(col_name), df_dummies.columns))\n",
    "print(cat_cols_new)"
   ]
  },
  {
   "cell_type": "markdown",
   "metadata": {},
   "source": [
    "### Feature scaling"
   ]
  },
  {
   "cell_type": "code",
   "execution_count": null,
   "metadata": {},
   "outputs": [],
   "source": []
  },
  {
   "cell_type": "code",
   "execution_count": null,
   "metadata": {},
   "outputs": [],
   "source": []
  }
 ],
 "metadata": {
  "kernelspec": {
   "display_name": "dls",
   "language": "python",
   "name": "python3"
  },
  "language_info": {
   "codemirror_mode": {
    "name": "ipython",
    "version": 3
   },
   "file_extension": ".py",
   "mimetype": "text/x-python",
   "name": "python",
   "nbconvert_exporter": "python",
   "pygments_lexer": "ipython3",
   "version": "3.11.6"
  }
 },
 "nbformat": 4,
 "nbformat_minor": 2
}
